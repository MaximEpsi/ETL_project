{
 "cells": [
  {
   "metadata": {},
   "cell_type": "markdown",
   "source": [
    "# Explication des cellules d'initialisation\n",
    "Nous avons testé plusieurs approches : en local, avec Pycharm. Dans le cloud, avec Kaggle & Google Colab.\n",
    "Nous avons donc mis en place plusieurs configurations pour chaque environnement.\n",
    "Si local, vérifier que java 11 est bien installé. Si Kaggle, uploader le csv comme dataset afin de l'avoir à disposition.\n"
   ]
  },
  {
   "metadata": {
    "ExecuteTime": {
     "end_time": "2024-12-03T11:48:27.352438Z",
     "start_time": "2024-12-03T11:48:27.347270Z"
    }
   },
   "cell_type": "code",
   "source": [
    "import time\n",
    "from pyspark.sql import SparkSession\n",
    "import shutil\n",
    "import os"
   ],
   "outputs": [],
   "execution_count": 10
  },
  {
   "metadata": {},
   "cell_type": "code",
   "outputs": [],
   "execution_count": null,
   "source": [
    "!pip install pyspark\n",
    "file_path_csv = \"/kaggle/input/openfoodfacts/en.openfoodfacts.org.products.csv\"\n",
    "file_path_parquet = \"/kaggle/working/en.openfoodfacts.org.products.parquet\""
   ]
  },
  {
   "metadata": {
    "ExecuteTime": {
     "end_time": "2024-12-03T11:34:49.157522Z",
     "start_time": "2024-12-03T11:34:49.155068Z"
    }
   },
   "cell_type": "code",
   "source": [
    "file_path_csv = \"./data/en.openfoodfacts.org.products.csv\"\n",
    "file_path_parquet = \"./data/en.openfoodfacts.org.products.parquet\""
   ],
   "outputs": [],
   "execution_count": 2
  },
  {
   "metadata": {
    "ExecuteTime": {
     "end_time": "2024-12-03T11:51:37.024576Z",
     "start_time": "2024-12-03T11:50:31.551189Z"
    }
   },
   "cell_type": "code",
   "source": [
    "\n",
    "\n",
    "start_time = time.time()\n",
    "print(\"Démarrage du script...\")\n",
    "\n",
    "# Initialiser une SparkSession avec des logs réduits\n",
    "spark = SparkSession.builder \\\n",
    "    .appName(\"Exploration OpenFoodFacts\") \\\n",
    "    .config(\"spark.sql.shuffle.partitions\", \"8\") \\\n",
    "    .config(\"spark.executor.memory\", \"2g\")  \\\n",
    "    .config(\"spark.sql.catalogImplementation\", \"hive\") \\\n",
    "    .enableHiveSupport() \\\n",
    "    .getOrCreate()\n",
    "\n",
    "spark.sparkContext.setLogLevel(\"ERROR\")  # Réduction des logs\n",
    "\n",
    "print(\"PySpark chargé\")\n",
    "\n",
    "try:\n",
    "    # Charger le fichier CSV en tant que DataFrame Spark puis échantillonne 20%\n",
    "    df_csv_before_sample = spark.read.csv(file_path_csv, header=True, inferSchema=True, sep=\"\\t\")\n",
    "    print(\"Fichier CSV chargé.\")\n",
    "    df_csv = df_csv_before_sample.sample(withReplacement=False, fraction=0.2)  # Échantillonnage à 20%\n",
    "    print(\"Echantillonage terminé\")\n",
    "\n",
    "    # Sauvegarder le DataFrame au format Parquet\n",
    "    df_csv.write.parquet(file_path_parquet, mode=\"overwrite\")\n",
    "    print(\"Données sauvegardées au format Parquet.\")\n",
    "\n",
    "    # Charger le fichier Parquet pour une analyse future\n",
    "    df_parquet = spark.read.parquet(file_path_parquet)\n",
    "    print(\"Fichier Parquet chargé.\")\n",
    "\n",
    "    # Vérifier et supprimer l'ancienne table Hive\n",
    "    table_name = \"hive_table\"\n",
    "    hive_table_path = f\"spark-warehouse/{table_name}\"\n",
    "    if table_name in [t.name for t in spark.catalog.listTables(\"default\")]:\n",
    "        print(f\"La table '{table_name}' existe déjà et doit être supprimé.\")\n",
    "        spark.sql(f\"DROP TABLE {table_name}\")\n",
    "        print(f\"Table Hive '{table_name}' supprimée.\")\n",
    "    if os.path.exists(hive_table_path):\n",
    "        shutil.rmtree(hive_table_path)\n",
    "        print(f\"Répertoire associé '{hive_table_path}' supprimé.\")\n",
    "\n",
    "    # Création de la table Hive\n",
    "    print(\"Création et insertion dans la table Hive...\")\n",
    "    hive_table_start_time = time.time()\n",
    "    df_csv.write.mode(\"overwrite\").saveAsTable(\"hive_table\")\n",
    "    \n",
    "except Exception as e:\n",
    "    print(f\"Erreur rencontrée : {e}\")\n",
    "\n",
    "finally:\n",
    "    end_time = time.time()\n",
    "    elapsed_time = end_time - start_time\n",
    "    print(f\"Temps d'exécution : {elapsed_time:.2f} secondes\")\n"
   ],
   "outputs": [
    {
     "name": "stdout",
     "output_type": "stream",
     "text": [
      "Démarrage du script...\n",
      "PySpark chargé\n"
     ]
    },
    {
     "name": "stderr",
     "output_type": "stream",
     "text": [
      "                                                                                \r"
     ]
    },
    {
     "name": "stdout",
     "output_type": "stream",
     "text": [
      "Fichier CSV chargé.\n",
      "Echantillonage terminé\n"
     ]
    },
    {
     "name": "stderr",
     "output_type": "stream",
     "text": [
      "                                                                                \r"
     ]
    },
    {
     "name": "stdout",
     "output_type": "stream",
     "text": [
      "Données sauvegardées au format Parquet.\n",
      "Fichier Parquet chargé.\n",
      "La table 'hive_table' existe déjà et doit être supprimé.\n",
      "Table Hive 'hive_table' supprimée.\n",
      "Création et insertion dans la table Hive...\n"
     ]
    },
    {
     "name": "stderr",
     "output_type": "stream",
     "text": [
      "[Stage 43:====================================================>   (71 + 5) / 76]\r"
     ]
    },
    {
     "name": "stdout",
     "output_type": "stream",
     "text": [
      "Temps d'exécution : 65.47 secondes\n"
     ]
    },
    {
     "name": "stderr",
     "output_type": "stream",
     "text": [
      "                                                                                \r"
     ]
    }
   ],
   "execution_count": 12
  },
  {
   "metadata": {
    "ExecuteTime": {
     "end_time": "2024-12-03T12:19:38.844635Z",
     "start_time": "2024-12-03T12:19:34.410387Z"
    }
   },
   "cell_type": "code",
   "source": [
    "# Mesure du temps pour compter les lignes du DataFrame CSV\n",
    "csv_start_time = time.time()\n",
    "csv_row_count = df_csv.count()  # Compter les lignes\n",
    "csv_end_time = time.time()\n",
    "csv_elapsed_time_ms = (csv_end_time - csv_start_time) * 1000\n",
    "print(f\"CSV (comptage des lignes): {csv_elapsed_time_ms:.3f} ms - Nombre de lignes: {csv_row_count}\")\n",
    "\n",
    "# Mesure du temps pour compter les lignes du DataFrame Parquet\n",
    "parquet_start_time = time.time()\n",
    "parquet_row_count = df_parquet.count()  # Compter les lignes\n",
    "parquet_end_time = time.time()\n",
    "parquet_elapsed_time_ms = (parquet_end_time - parquet_start_time) * 1000\n",
    "print(f\"Parquet (comptage des lignes): {parquet_elapsed_time_ms:.3f} ms - Nombre de lignes: {parquet_row_count}\")\n",
    "\n",
    "# Mesure du temps pour compter les lignes de la table Hive\n",
    "hive_start_time = time.time()\n",
    "df_hive = spark.sql(\"SELECT * FROM hive_table\")  # Charger la table Hive\n",
    "hive_row_count = df_hive.count()  # Compter les lignes\n",
    "hive_end_time = time.time()\n",
    "hive_elapsed_time_ms = (hive_end_time - hive_start_time) * 1000\n",
    "print(f\"Hive (comptage des lignes): {hive_elapsed_time_ms:.3f} ms - Nombre de lignes: {hive_row_count}\")\n",
    "\n",
    "# Comparaison des temps\n",
    "print(\"\\nComparaison des performances :\")\n",
    "print(f\"CSV Execution Time: {csv_elapsed_time_ms:.3f} ms\")\n",
    "print(f\"Parquet Execution Time: {parquet_elapsed_time_ms:.3f} ms\")\n",
    "print(f\"Hive Execution Time: {hive_elapsed_time_ms:.3f} ms\")"
   ],
   "outputs": [
    {
     "name": "stderr",
     "output_type": "stream",
     "text": [
      "                                                                                \r"
     ]
    },
    {
     "name": "stdout",
     "output_type": "stream",
     "text": [
      "CSV (comptage des lignes): 4207.154 ms - Nombre de lignes: 702940\n",
      "Parquet (comptage des lignes): 94.240 ms - Nombre de lignes: 702940\n",
      "Hive (comptage des lignes): 128.800 ms - Nombre de lignes: 702940\n",
      "\n",
      "Comparaison des performances :\n",
      "CSV Execution Time: 4207.154 ms\n",
      "Parquet Execution Time: 94.240 ms\n",
      "Hive Execution Time: 128.800 ms\n"
     ]
    }
   ],
   "execution_count": 13
  },
  {
   "metadata": {},
   "cell_type": "markdown",
   "source": [
    "# Analyse préliminaire\n",
    "### 1. Mise en valeur des lignes, colonnes\n",
    "\n"
   ]
  },
  {
   "metadata": {
    "ExecuteTime": {
     "end_time": "2024-12-03T12:19:51.823635Z",
     "start_time": "2024-12-03T12:19:47.362410Z"
    }
   },
   "cell_type": "code",
   "source": [
    "# Mesure du temps pour compter les lignes du DataFrame CSV\n",
    "csv_start_time = time.time()\n",
    "csv_row_count = df_csv.count()\n",
    "csv_end_time = time.time()\n",
    "csv_elapsed_time_ms = (csv_end_time - csv_start_time) * 1000\n",
    "print(f\"CSV (comptage des lignes): {csv_elapsed_time_ms:.3f} ms - Nombre de lignes: {csv_row_count}\")\n",
    "\n",
    "# Mesure du temps pour compter les lignes du DataFrame Parquet\n",
    "parquet_start_time = time.time()\n",
    "parquet_row_count = df_parquet.count()\n",
    "parquet_end_time = time.time()\n",
    "parquet_elapsed_time_ms = (parquet_end_time - parquet_start_time) * 1000\n",
    "print(f\"Parquet (comptage des lignes): {parquet_elapsed_time_ms:.3f} ms - Nombre de lignes: {parquet_row_count}\")\n",
    "\n",
    "# Mesure du temps pour compter les lignes de la table Hive\n",
    "hive_start_time = time.time()\n",
    "df_hive = spark.sql(\"SELECT * FROM hive_table\")\n",
    "hive_row_count = df_hive.count()\n",
    "hive_end_time = time.time()\n",
    "hive_elapsed_time_ms = (hive_end_time - hive_start_time) * 1000\n",
    "print(f\"Hive (comptage des lignes): {hive_elapsed_time_ms:.3f} ms - Nombre de lignes: {hive_row_count}\")\n",
    "\n",
    "# Comparaison des temps\n",
    "print(\"\\nComparaison des performances :\")\n",
    "print(f\"CSV Execution Time: {csv_elapsed_time_ms:.3f} ms\")\n",
    "print(f\"Parquet Execution Time: {parquet_elapsed_time_ms:.3f} ms\")\n",
    "print(f\"Hive Execution Time: {hive_elapsed_time_ms:.3f} ms\")"
   ],
   "outputs": [
    {
     "name": "stderr",
     "output_type": "stream",
     "text": [
      "                                                                                \r"
     ]
    },
    {
     "name": "stdout",
     "output_type": "stream",
     "text": [
      "CSV (comptage des lignes): 4120.723 ms - Nombre de lignes: 702940\n",
      "Parquet (comptage des lignes): 139.549 ms - Nombre de lignes: 702940\n",
      "Hive (comptage des lignes): 196.806 ms - Nombre de lignes: 702940\n",
      "\n",
      "Comparaison des performances :\n",
      "CSV Execution Time: 4120.723 ms\n",
      "Parquet Execution Time: 139.549 ms\n",
      "Hive Execution Time: 196.806 ms\n"
     ]
    }
   ],
   "execution_count": 14
  },
  {
   "metadata": {},
   "cell_type": "markdown",
   "source": "### .2 Gestion des valeurs manquantes\n"
  },
  {
   "metadata": {
    "ExecuteTime": {
     "end_time": "2024-12-03T12:20:08.523701Z",
     "start_time": "2024-12-03T12:19:55.776881Z"
    }
   },
   "cell_type": "code",
   "source": [
    "from pyspark.sql.functions import col, count, when\n",
    "\n",
    "start_time = time.time()\n",
    "\n",
    "# Calculate missing data percentage for each column\n",
    "total_rows = df_parquet.count()\n",
    "missing_data = (\n",
    "    df_parquet.select([\n",
    "        (count(when(col(c).isNull() | (col(c) == \"\"), c)) / total_rows).alias(c)\n",
    "        for c in df_parquet.columns\n",
    "    ])\n",
    ")\n",
    "\n",
    "# Transform columns into rows (melt operation)\n",
    "missing_data_melted = missing_data.selectExpr(\n",
    "    \"stack({0}, {1}) as (Column, MissingPercentage)\".format(\n",
    "        len(df_parquet.columns),\n",
    "        \", \".join([f\"'{col}', `{col}`\" for col in df_parquet.columns])\n",
    "    )\n",
    ").filter(col(\"MissingPercentage\").isNotNull()).orderBy(col(\"MissingPercentage\").desc())\n",
    "\n",
    "# Identify columns with 100% missing data\n",
    "columns_to_drop = (\n",
    "    missing_data_melted.filter(col(\"MissingPercentage\") == 1.0)\n",
    "    .select(\"Column\")\n",
    "    .rdd.flatMap(lambda x: x)\n",
    "    .collect()\n",
    ")\n",
    "\n",
    "# Drop columns with 100% missing values\n",
    "df_cleanedby_missing_value = df_parquet.drop(*columns_to_drop)\n",
    "\n",
    "# Display the top 10 columns with the highest missing percentages\n",
    "print(\"Top 10 columns with the highest missing percentages:\")\n",
    "missing_data_melted.show(10, truncate=False)\n",
    "\n",
    "# Print dropped columns\n",
    "print(f\"Columns dropped due to 100% missing values: {columns_to_drop}\")\n",
    "\n",
    "end_time = time.time()\n",
    "elapsed_time = end_time - start_time\n",
    "print(f\"Execution completed in {elapsed_time:.2f} seconds\")\n"
   ],
   "outputs": [
    {
     "name": "stderr",
     "output_type": "stream",
     "text": [
      "                                                                                \r"
     ]
    },
    {
     "name": "stdout",
     "output_type": "stream",
     "text": [
      "Top 10 columns with the highest missing percentages:\n"
     ]
    },
    {
     "name": "stderr",
     "output_type": "stream",
     "text": [
      "[Stage 68:=====================>                                  (6 + 10) / 16]\r"
     ]
    },
    {
     "name": "stdout",
     "output_type": "stream",
     "text": [
      "+--------------------------------+------------------+\n",
      "|Column                          |MissingPercentage |\n",
      "+--------------------------------+------------------+\n",
      "|cities                          |1.0               |\n",
      "|allergens_en                    |1.0               |\n",
      "|chlorophyl_100g                 |1.0               |\n",
      "|additives                       |0.9999985774034769|\n",
      "|elaidic-acid_100g               |0.9999985774034769|\n",
      "|erucic-acid_100g                |0.9999985774034769|\n",
      "|nutrition-score-uk_100g         |0.9999985774034769|\n",
      "|gamma-linolenic-acid_100g       |0.9999957322104305|\n",
      "|myristic-acid_100g              |0.9999957322104305|\n",
      "|dihomo-gamma-linolenic-acid_100g|0.9999957322104305|\n",
      "+--------------------------------+------------------+\n",
      "only showing top 10 rows\n",
      "\n",
      "Columns dropped due to 100% missing values: ['cities', 'allergens_en', 'chlorophyl_100g']\n",
      "Execution completed in 12.74 seconds\n"
     ]
    },
    {
     "name": "stderr",
     "output_type": "stream",
     "text": [
      "                                                                                \r"
     ]
    }
   ],
   "execution_count": 15
  },
  {
   "metadata": {},
   "cell_type": "markdown",
   "source": "### 3. Gestion des valeurs doublons"
  },
  {
   "metadata": {
    "ExecuteTime": {
     "end_time": "2024-12-03T12:20:18.836879Z",
     "start_time": "2024-12-03T12:20:15.348067Z"
    }
   },
   "cell_type": "code",
   "source": [
    "from pyspark.sql.functions import col, count\n",
    "\n",
    "start_time = time.time()\n",
    "\n",
    "# Analyzing Duplicates in 'code', 'product_name', and 'brands'\n",
    "duplicates = (\n",
    "    df_cleanedby_missing_value.groupBy(\"code\", \"product_name\", \"brands\")\n",
    "    .count()\n",
    "    .filter(col(\"count\") > 1)\n",
    ")\n",
    "\n",
    "# Affiche le nombre de doublons identifiés\n",
    "print(f\"There are {duplicates.count()} duplicate rows based on 'code', 'product_name', and 'brands'.\")\n",
    "duplicates.show(truncate=False)\n",
    "\n",
    "# Remove duplicates where 'code', 'product_name', and 'brands' are the same\n",
    "df_cleaned_by_duplicate = df_cleanedby_missing_value.dropDuplicates([\"code\", \"product_name\", \"brands\"])\n",
    "\n",
    "print(f\"Number of rows before removing duplicates: {df_cleanedby_missing_value.count()}\")\n",
    "print(f\"Number of rows after removing duplicates: {df_cleaned_by_duplicate.count()}\")\n",
    "\n",
    "end_time = time.time()\n",
    "elapsed_time = end_time - start_time\n",
    "print(f\"Execution completed in {elapsed_time:.2f} seconds\")\n"
   ],
   "outputs": [
    {
     "name": "stderr",
     "output_type": "stream",
     "text": [
      "                                                                                \r"
     ]
    },
    {
     "name": "stdout",
     "output_type": "stream",
     "text": [
      "There are 89 duplicate rows based on 'code', 'product_name', and 'brands'.\n",
      "+---------------------+---------------------------------------------------------------------+--------------------+-----+\n",
      "|code                 |product_name                                                         |brands              |count|\n",
      "+---------------------+---------------------------------------------------------------------+--------------------+-----+\n",
      "|3.254562304039E12    |Moules du Pacifique décortiquées cuites                              |Auchan              |2    |\n",
      "|3.228857000319E12    |Maxi format Harrys brioche tranchée                                  |Harrys              |2    |\n",
      "|3.596710460342E12    |double glace café sauce au café                                      |Auchan              |2    |\n",
      "|3.276550655497E12    |Tarte fine aux pommes                                                |Carrefour           |2    |\n",
      "|8.594071235406E12    |Betterave                                                            |Carrefour           |2    |\n",
      "|8.9333170042000141E17|Burger vegetariana                                                   |Bonarea             |2    |\n",
      "|1.00389221908194E20  |Carne picada                                                         |Bonarea             |2    |\n",
      "|8.435177059704E12    |Amandes décortiquées                                                 |Auchan              |2    |\n",
      "|3.250392404536E12    |Mitonné de mouton aux flageolets                                     |Monique Ranou       |2    |\n",
      "|3.254560394858E12    |Salade Vapeur Sautées                                                |Auchan              |2    |\n",
      "|3.254562048681E12    |Filets de poulet                                                     |Auchan              |2    |\n",
      "|2.030500375399E12    |Baguette céréales bio                                                |Auchan              |2    |\n",
      "|2.030503846254E12    |Éclairs café chocolat x2                                             |Auchan              |2    |\n",
      "|3.260260101313E12    |Madeleines Longues Cacao                                             |La Trinitaine       |2    |\n",
      "|3.596710362967E12    |Sauce tartare                                                        |Auchan              |2    |\n",
      "|3.596710386222E12    |Haricots Verts Extra Fins                                            |Auchan              |2    |\n",
      "|3.073781070309E12    |La Vache qui rit 32 portions                                         |La vache qui rit,Bel|2    |\n",
      "|5.900020000941E12    |Code-barres inexistant et/ou fiche incomplète, obsolète ou en doublon|Nesquik             |2    |\n",
      "|5.601002008466E12    |Gelatina sabor a piña                                                |Auchan              |2    |\n",
      "|7.2610370032000141E17|Nuggets veganos                                                      |Bonarea             |2    |\n",
      "+---------------------+---------------------------------------------------------------------+--------------------+-----+\n",
      "only showing top 20 rows\n",
      "\n",
      "Number of rows before removing duplicates: 702940\n",
      "Number of rows after removing duplicates: 702849\n",
      "Execution completed in 3.48 seconds\n"
     ]
    }
   ],
   "execution_count": 16
  },
  {
   "metadata": {},
   "cell_type": "markdown",
   "source": "### 4. Gestion des valeurs abérantes"
  },
  {
   "metadata": {
    "ExecuteTime": {
     "end_time": "2024-12-03T12:22:51.827864Z",
     "start_time": "2024-12-03T12:20:58.896095Z"
    }
   },
   "cell_type": "code",
   "source": [
    "from pyspark.sql.functions import col, regexp_extract\n",
    "from pyspark.sql.types import IntegerType, DoubleType, FloatType\n",
    "\n",
    "# Extraire les valeurs numériques de la colonne \"quantity\"\n",
    "df_cleaned_by_outliers = df_cleaned_by_duplicate.withColumn(\n",
    "    \"quantity_numeric\",\n",
    "    regexp_extract(col(\"quantity\"), r\"(\\d+)\", 1).cast(\"double\")\n",
    ")\n",
    "\n",
    "# Détecter les colonnes numériques\n",
    "numeric_columns = [\n",
    "    field.name for field in df_cleaned_by_outliers.schema.fields\n",
    "    if isinstance(field.dataType, (IntegerType, DoubleType, FloatType))\n",
    "]\n",
    "print(f\"Numeric columns detected: {numeric_columns}\")\n",
    "\n",
    "if not numeric_columns:\n",
    "    print(\"No numeric columns found. Please check your data.\")\n",
    "else:\n",
    "    total_rows_before = df_cleaned_by_outliers.count()\n",
    "    removed_rows_total = 0\n",
    "\n",
    "    # Boucle sur les colonnes numériques pour détecter les outliers\n",
    "    for column in numeric_columns:\n",
    "        try:\n",
    "            # Calcul des quartiles avec approxQuantile\n",
    "            quantiles = df_cleaned_by_outliers.approxQuantile(column, [0.25, 0.75], 0.05)\n",
    "            if len(quantiles) < 2:\n",
    "                print(f\"Column '{column}' has insufficient data. Skipping...\")\n",
    "                continue\n",
    "\n",
    "            q1, q3 = quantiles\n",
    "            iqr = q3 - q1\n",
    "            lower_bound = q1 - 1.5 * iqr\n",
    "            upper_bound = q3 + 1.5 * iqr\n",
    "\n",
    "            # Filtrer les outliers\n",
    "            df_outliers = df_cleaned_by_outliers.filter((col(column) < lower_bound) | (col(column) > upper_bound))\n",
    "            removed_rows = df_outliers.count()\n",
    "            removed_rows_total += removed_rows\n",
    "\n",
    "            print(f\"Column '{column}': {removed_rows} rows detected as outliers.\")\n",
    "\n",
    "        except Exception as e:\n",
    "            print(f\"Error processing column '{column}': {e}\")\n",
    "\n",
    "    print(f\"Total rows before filtering: {total_rows_before}\")\n",
    "    print(f\"Total rows removed as outliers: {removed_rows_total}\")\n",
    "    print(f\"Total rows remaining: {total_rows_before - removed_rows_total}\")"
   ],
   "outputs": [
    {
     "name": "stdout",
     "output_type": "stream",
     "text": [
      "Numeric columns detected: ['code', 'created_t', 'last_modified_t', 'last_updated_t', 'serving_quantity', 'additives_n', 'nutriscore_score', 'nova_group', 'ecoscore_score', 'product_quantity', 'unique_scans_n', 'completeness', 'last_image_t', 'energy-kj_100g', 'energy-kcal_100g', 'energy_100g', 'energy-from-fat_100g', 'fat_100g', 'saturated-fat_100g', 'butyric-acid_100g', 'caproic-acid_100g', 'caprylic-acid_100g', 'capric-acid_100g', 'lauric-acid_100g', 'myristic-acid_100g', 'palmitic-acid_100g', 'stearic-acid_100g', 'arachidic-acid_100g', 'behenic-acid_100g', 'lignoceric-acid_100g', 'cerotic-acid_100g', 'montanic-acid_100g', 'melissic-acid_100g', 'unsaturated-fat_100g', 'monounsaturated-fat_100g', 'omega-9-fat_100g', 'polyunsaturated-fat_100g', 'omega-3-fat_100g', 'omega-6-fat_100g', 'alpha-linolenic-acid_100g', 'eicosapentaenoic-acid_100g', 'docosahexaenoic-acid_100g', 'linoleic-acid_100g', 'arachidonic-acid_100g', 'gamma-linolenic-acid_100g', 'dihomo-gamma-linolenic-acid_100g', 'oleic-acid_100g', 'elaidic-acid_100g', 'gondoic-acid_100g', 'mead-acid_100g', 'erucic-acid_100g', 'nervonic-acid_100g', 'trans-fat_100g', 'cholesterol_100g', 'carbohydrates_100g', 'sugars_100g', 'added-sugars_100g', 'sucrose_100g', 'glucose_100g', 'fructose_100g', 'lactose_100g', 'maltose_100g', 'maltodextrins_100g', 'starch_100g', 'polyols_100g', 'erythritol_100g', 'fiber_100g', 'soluble-fiber_100g', 'insoluble-fiber_100g', 'proteins_100g', 'casein_100g', 'serum-proteins_100g', 'nucleotides_100g', 'salt_100g', 'added-salt_100g', 'sodium_100g', 'alcohol_100g', 'vitamin-a_100g', 'beta-carotene_100g', 'vitamin-d_100g', 'vitamin-e_100g', 'vitamin-k_100g', 'vitamin-c_100g', 'vitamin-b1_100g', 'vitamin-b2_100g', 'vitamin-pp_100g', 'vitamin-b6_100g', 'vitamin-b9_100g', 'folates_100g', 'vitamin-b12_100g', 'biotin_100g', 'pantothenic-acid_100g', 'silica_100g', 'bicarbonate_100g', 'potassium_100g', 'chloride_100g', 'calcium_100g', 'phosphorus_100g', 'iron_100g', 'magnesium_100g', 'zinc_100g', 'copper_100g', 'manganese_100g', 'fluoride_100g', 'selenium_100g', 'chromium_100g', 'molybdenum_100g', 'iodine_100g', 'caffeine_100g', 'taurine_100g', 'ph_100g', 'fruits-vegetables-nuts_100g', 'fruits-vegetables-nuts-dried_100g', 'fruits-vegetables-nuts-estimate_100g', 'fruits-vegetables-nuts-estimate-from-ingredients_100g', 'collagen-meat-protein-ratio_100g', 'cocoa_100g', 'carbon-footprint_100g', 'carbon-footprint-from-meat-or-fish_100g', 'nutrition-score-fr_100g', 'nutrition-score-uk_100g', 'glycemic-index_100g', 'water-hardness_100g', 'choline_100g', 'phylloquinone_100g', 'beta-glucan_100g', 'inositol_100g', 'carnitine_100g', 'sulphate_100g', 'nitrate_100g', 'acidity_100g', 'quantity_numeric']\n",
      "Column 'code': 6328 rows detected as outliers.\n",
      "Column 'created_t': 3621 rows detected as outliers.\n",
      "Column 'last_modified_t': 3426 rows detected as outliers.\n",
      "Column 'last_updated_t': 0 rows detected as outliers.\n",
      "Column 'serving_quantity': 23030 rows detected as outliers.\n",
      "Column 'additives_n': 20406 rows detected as outliers.\n",
      "Column 'nutriscore_score': 66 rows detected as outliers.\n",
      "Column 'nova_group': 21733 rows detected as outliers.\n",
      "Column 'ecoscore_score': 920 rows detected as outliers.\n",
      "Column 'product_quantity': 20521 rows detected as outliers.\n",
      "Column 'unique_scans_n': 29966 rows detected as outliers.\n",
      "Column 'completeness': 39777 rows detected as outliers.\n",
      "Column 'last_image_t': 10056 rows detected as outliers.\n",
      "Column 'energy-kj_100g': 887 rows detected as outliers.\n",
      "Column 'energy-kcal_100g': 8216 rows detected as outliers.\n",
      "Column 'energy_100g': 8251 rows detected as outliers.\n",
      "Column 'energy-from-fat_100g': 23 rows detected as outliers.\n",
      "Column 'fat_100g': 28863 rows detected as outliers.\n",
      "Column 'saturated-fat_100g': 60451 rows detected as outliers.\n",
      "Column 'butyric-acid_100g': 1 rows detected as outliers.\n",
      "Column 'caproic-acid_100g': 0 rows detected as outliers.\n",
      "Column 'caprylic-acid_100g': 0 rows detected as outliers.\n",
      "Column 'capric-acid_100g': 1 rows detected as outliers.\n",
      "Column 'lauric-acid_100g': 0 rows detected as outliers.\n",
      "Column 'myristic-acid_100g': 0 rows detected as outliers.\n",
      "Column 'palmitic-acid_100g': 1 rows detected as outliers.\n",
      "Column 'stearic-acid_100g': 1 rows detected as outliers.\n",
      "Column 'arachidic-acid_100g': 10 rows detected as outliers.\n",
      "Column 'behenic-acid_100g': 1 rows detected as outliers.\n",
      "Column 'lignoceric-acid_100g': 0 rows detected as outliers.\n",
      "Column 'cerotic-acid_100g': 1 rows detected as outliers.\n",
      "Column 'montanic-acid_100g': 1 rows detected as outliers.\n",
      "Column 'melissic-acid_100g': 1 rows detected as outliers.\n",
      "Column 'unsaturated-fat_100g': 4 rows detected as outliers.\n",
      "Column 'monounsaturated-fat_100g': 1623 rows detected as outliers.\n",
      "Column 'omega-9-fat_100g': 8 rows detected as outliers.\n",
      "Column 'polyunsaturated-fat_100g': 1088 rows detected as outliers.\n",
      "Column 'omega-3-fat_100g': 100 rows detected as outliers.\n",
      "Column 'omega-6-fat_100g': 28 rows detected as outliers.\n",
      "Column 'alpha-linolenic-acid_100g': 66 rows detected as outliers.\n",
      "Column 'eicosapentaenoic-acid_100g': 4 rows detected as outliers.\n",
      "Column 'docosahexaenoic-acid_100g': 7 rows detected as outliers.\n",
      "Column 'linoleic-acid_100g': 15 rows detected as outliers.\n",
      "Column 'arachidonic-acid_100g': 7 rows detected as outliers.\n",
      "Column 'gamma-linolenic-acid_100g': 0 rows detected as outliers.\n",
      "Column 'dihomo-gamma-linolenic-acid_100g': 0 rows detected as outliers.\n",
      "Column 'oleic-acid_100g': 5 rows detected as outliers.\n",
      "Column 'elaidic-acid_100g': 0 rows detected as outliers.\n",
      "Column 'gondoic-acid_100g': 4 rows detected as outliers.\n",
      "Column 'mead-acid_100g': 1 rows detected as outliers.\n",
      "Column 'erucic-acid_100g': 0 rows detected as outliers.\n",
      "Column 'nervonic-acid_100g': 2 rows detected as outliers.\n",
      "Column 'trans-fat_100g': 2607 rows detected as outliers.\n",
      "Column 'cholesterol_100g': 10585 rows detected as outliers.\n",
      "Column 'carbohydrates_100g': 409 rows detected as outliers.\n",
      "Column 'sugars_100g': 82658 rows detected as outliers.\n",
      "Column 'added-sugars_100g': 1173 rows detected as outliers.\n",
      "Column 'sucrose_100g': 5 rows detected as outliers.\n",
      "Column 'glucose_100g': 3 rows detected as outliers.\n",
      "Column 'fructose_100g': 1 rows detected as outliers.\n",
      "Column 'lactose_100g': 82 rows detected as outliers.\n",
      "Column 'maltose_100g': 2 rows detected as outliers.\n",
      "Column 'maltodextrins_100g': 7 rows detected as outliers.\n",
      "Column 'starch_100g': 0 rows detected as outliers.\n",
      "Column 'polyols_100g': 1 rows detected as outliers.\n",
      "Column 'erythritol_100g': 1 rows detected as outliers.\n",
      "Column 'fiber_100g': 22601 rows detected as outliers.\n",
      "Column 'soluble-fiber_100g': 42 rows detected as outliers.\n",
      "Column 'insoluble-fiber_100g': 39 rows detected as outliers.\n",
      "Column 'proteins_100g': 27438 rows detected as outliers.\n",
      "Column 'casein_100g': 0 rows detected as outliers.\n",
      "Column 'serum-proteins_100g': 3 rows detected as outliers.\n",
      "Column 'nucleotides_100g': 1 rows detected as outliers.\n",
      "Column 'salt_100g': 36370 rows detected as outliers.\n",
      "Column 'added-salt_100g': 1 rows detected as outliers.\n",
      "Column 'sodium_100g': 36369 rows detected as outliers.\n",
      "Column 'alcohol_100g': 913 rows detected as outliers.\n",
      "Column 'vitamin-a_100g': 6127 rows detected as outliers.\n",
      "Column 'beta-carotene_100g': 1 rows detected as outliers.\n",
      "Column 'vitamin-d_100g': 1529 rows detected as outliers.\n",
      "Column 'vitamin-e_100g': 187 rows detected as outliers.\n",
      "Column 'vitamin-k_100g': 86 rows detected as outliers.\n",
      "Column 'vitamin-c_100g': 8498 rows detected as outliers.\n",
      "Column 'vitamin-b1_100g': 515 rows detected as outliers.\n",
      "Column 'vitamin-b2_100g': 746 rows detected as outliers.\n",
      "Column 'vitamin-pp_100g': 579 rows detected as outliers.\n",
      "Column 'vitamin-b6_100g': 385 rows detected as outliers.\n",
      "Column 'vitamin-b9_100g': 264 rows detected as outliers.\n",
      "Column 'folates_100g': 117 rows detected as outliers.\n",
      "Column 'vitamin-b12_100g': 491 rows detected as outliers.\n",
      "Column 'biotin_100g': 56 rows detected as outliers.\n",
      "Column 'pantothenic-acid_100g': 192 rows detected as outliers.\n",
      "Column 'silica_100g': 11 rows detected as outliers.\n",
      "Column 'bicarbonate_100g': 43 rows detected as outliers.\n",
      "Column 'potassium_100g': 2937 rows detected as outliers.\n",
      "Column 'chloride_100g': 68 rows detected as outliers.\n",
      "Column 'calcium_100g': 6125 rows detected as outliers.\n",
      "Column 'phosphorus_100g': 183 rows detected as outliers.\n",
      "Column 'iron_100g': 4120 rows detected as outliers.\n",
      "Column 'magnesium_100g': 291 rows detected as outliers.\n",
      "Column 'zinc_100g': 325 rows detected as outliers.\n",
      "Column 'copper_100g': 61 rows detected as outliers.\n",
      "Column 'manganese_100g': 69 rows detected as outliers.\n",
      "Column 'fluoride_100g': 30 rows detected as outliers.\n",
      "Column 'selenium_100g': 83 rows detected as outliers.\n",
      "Column 'chromium_100g': 16 rows detected as outliers.\n",
      "Column 'molybdenum_100g': 19 rows detected as outliers.\n",
      "Column 'iodine_100g': 111 rows detected as outliers.\n",
      "Column 'caffeine_100g': 121 rows detected as outliers.\n",
      "Column 'taurine_100g': 6 rows detected as outliers.\n",
      "Column 'ph_100g': 12 rows detected as outliers.\n",
      "Column 'fruits-vegetables-nuts_100g': 0 rows detected as outliers.\n",
      "Column 'fruits-vegetables-nuts-dried_100g': 69 rows detected as outliers.\n",
      "Column 'fruits-vegetables-nuts-estimate_100g': 1 rows detected as outliers.\n",
      "Column 'fruits-vegetables-nuts-estimate-from-ingredients_100g': 38777 rows detected as outliers.\n",
      "Column 'collagen-meat-protein-ratio_100g': 11 rows detected as outliers.\n",
      "Column 'cocoa_100g': 0 rows detected as outliers.\n",
      "Column 'carbon-footprint_100g': 6 rows detected as outliers.\n",
      "Column 'carbon-footprint-from-meat-or-fish_100g': 253 rows detected as outliers.\n",
      "Column 'nutrition-score-fr_100g': 66 rows detected as outliers.\n",
      "Column 'nutrition-score-uk_100g': 0 rows detected as outliers.\n",
      "Column 'glycemic-index_100g': 0 rows detected as outliers.\n",
      "Column 'water-hardness_100g': 0 rows detected as outliers.\n",
      "Column 'choline_100g': 3 rows detected as outliers.\n",
      "Column 'phylloquinone_100g': 48 rows detected as outliers.\n",
      "Column 'beta-glucan_100g': 1 rows detected as outliers.\n",
      "Column 'inositol_100g': 4 rows detected as outliers.\n",
      "Column 'carnitine_100g': 2 rows detected as outliers.\n",
      "Column 'sulphate_100g': 4 rows detected as outliers.\n",
      "Column 'nitrate_100g': 6 rows detected as outliers.\n",
      "Column 'acidity_100g': 1 rows detected as outliers.\n"
     ]
    },
    {
     "name": "stderr",
     "output_type": "stream",
     "text": [
      "                                                                                \r"
     ]
    },
    {
     "name": "stdout",
     "output_type": "stream",
     "text": [
      "Column 'quantity_numeric': 9919 rows detected as outliers.\n",
      "Total rows before filtering: 702849\n",
      "Total rows removed as outliers: 594407\n",
      "Total rows remaining: 108442\n"
     ]
    }
   ],
   "execution_count": 17
  },
  {
   "metadata": {},
   "cell_type": "markdown",
   "source": "# Data cleaning\n"
  },
  {
   "metadata": {
    "ExecuteTime": {
     "end_time": "2024-12-03T12:27:05.293760Z",
     "start_time": "2024-12-03T12:27:05.007345Z"
    }
   },
   "cell_type": "code",
   "source": [
    "# display the schema of the cleaned DataFrame\n",
    "df_parquet = df_outliers\n",
    "df_parquet.describe()"
   ],
   "outputs": [
    {
     "data": {
      "text/plain": [
       "DataFrame[summary: string, code: string, url: string, creator: string, created_t: string, last_modified_t: string, last_modified_by: string, last_updated_t: string, product_name: string, abbreviated_product_name: string, generic_name: string, quantity: string, packaging: string, packaging_tags: string, packaging_en: string, packaging_text: string, brands: string, brands_tags: string, categories: string, categories_tags: string, categories_en: string, origins: string, origins_tags: string, origins_en: string, manufacturing_places: string, manufacturing_places_tags: string, labels: string, labels_tags: string, labels_en: string, emb_codes: string, emb_codes_tags: string, first_packaging_code_geo: string, cities_tags: string, purchase_places: string, stores: string, countries: string, countries_tags: string, countries_en: string, ingredients_text: string, ingredients_tags: string, ingredients_analysis_tags: string, allergens: string, traces: string, traces_tags: string, traces_en: string, serving_size: string, serving_quantity: string, no_nutrition_data: string, additives_n: string, additives: string, additives_tags: string, additives_en: string, nutriscore_score: string, nutriscore_grade: string, nova_group: string, pnns_groups_1: string, pnns_groups_2: string, food_groups: string, food_groups_tags: string, food_groups_en: string, states: string, states_tags: string, states_en: string, brand_owner: string, ecoscore_score: string, ecoscore_grade: string, nutrient_levels_tags: string, product_quantity: string, owner: string, data_quality_errors_tags: string, unique_scans_n: string, popularity_tags: string, completeness: string, last_image_t: string, main_category: string, main_category_en: string, image_url: string, image_small_url: string, image_ingredients_url: string, image_ingredients_small_url: string, image_nutrition_url: string, image_nutrition_small_url: string, energy-kj_100g: string, energy-kcal_100g: string, energy_100g: string, energy-from-fat_100g: string, fat_100g: string, saturated-fat_100g: string, butyric-acid_100g: string, caproic-acid_100g: string, caprylic-acid_100g: string, capric-acid_100g: string, lauric-acid_100g: string, myristic-acid_100g: string, palmitic-acid_100g: string, stearic-acid_100g: string, arachidic-acid_100g: string, behenic-acid_100g: string, lignoceric-acid_100g: string, cerotic-acid_100g: string, montanic-acid_100g: string, melissic-acid_100g: string, unsaturated-fat_100g: string, monounsaturated-fat_100g: string, omega-9-fat_100g: string, polyunsaturated-fat_100g: string, omega-3-fat_100g: string, omega-6-fat_100g: string, alpha-linolenic-acid_100g: string, eicosapentaenoic-acid_100g: string, docosahexaenoic-acid_100g: string, linoleic-acid_100g: string, arachidonic-acid_100g: string, gamma-linolenic-acid_100g: string, dihomo-gamma-linolenic-acid_100g: string, oleic-acid_100g: string, elaidic-acid_100g: string, gondoic-acid_100g: string, mead-acid_100g: string, erucic-acid_100g: string, nervonic-acid_100g: string, trans-fat_100g: string, cholesterol_100g: string, carbohydrates_100g: string, sugars_100g: string, added-sugars_100g: string, sucrose_100g: string, glucose_100g: string, fructose_100g: string, lactose_100g: string, maltose_100g: string, maltodextrins_100g: string, starch_100g: string, polyols_100g: string, erythritol_100g: string, fiber_100g: string, soluble-fiber_100g: string, insoluble-fiber_100g: string, proteins_100g: string, casein_100g: string, serum-proteins_100g: string, nucleotides_100g: string, salt_100g: string, added-salt_100g: string, sodium_100g: string, alcohol_100g: string, vitamin-a_100g: string, beta-carotene_100g: string, vitamin-d_100g: string, vitamin-e_100g: string, vitamin-k_100g: string, vitamin-c_100g: string, vitamin-b1_100g: string, vitamin-b2_100g: string, vitamin-pp_100g: string, vitamin-b6_100g: string, vitamin-b9_100g: string, folates_100g: string, vitamin-b12_100g: string, biotin_100g: string, pantothenic-acid_100g: string, silica_100g: string, bicarbonate_100g: string, potassium_100g: string, chloride_100g: string, calcium_100g: string, phosphorus_100g: string, iron_100g: string, magnesium_100g: string, zinc_100g: string, copper_100g: string, manganese_100g: string, fluoride_100g: string, selenium_100g: string, chromium_100g: string, molybdenum_100g: string, iodine_100g: string, caffeine_100g: string, taurine_100g: string, ph_100g: string, fruits-vegetables-nuts_100g: string, fruits-vegetables-nuts-dried_100g: string, fruits-vegetables-nuts-estimate_100g: string, fruits-vegetables-nuts-estimate-from-ingredients_100g: string, collagen-meat-protein-ratio_100g: string, cocoa_100g: string, carbon-footprint_100g: string, carbon-footprint-from-meat-or-fish_100g: string, nutrition-score-fr_100g: string, nutrition-score-uk_100g: string, glycemic-index_100g: string, water-hardness_100g: string, choline_100g: string, phylloquinone_100g: string, beta-glucan_100g: string, inositol_100g: string, carnitine_100g: string, sulphate_100g: string, nitrate_100g: string, acidity_100g: string, quantity_numeric: string]"
      ]
     },
     "execution_count": 18,
     "metadata": {},
     "output_type": "execute_result"
    }
   ],
   "execution_count": 18
  },
  {
   "metadata": {
    "ExecuteTime": {
     "end_time": "2024-12-03T12:29:03.838956Z",
     "start_time": "2024-12-03T12:29:01.983134Z"
    }
   },
   "cell_type": "code",
   "source": [
    "#select columns to keep\n",
    "selected_column = [\n",
    "    'code',\n",
    "    'product_name',\n",
    "    'brands',\n",
    "    'categories',\n",
    "    \"main_category\",\n",
    "    'quantity',\n",
    "    'packaging',\n",
    "    'countries',\n",
    "    'ingredients_text',\n",
    "    'allergens',\n",
    "    'serving_size',\n",
    "    'energy-kcal_100g',\n",
    "    'fat_100g',\n",
    "    'saturated-fat_100g',\n",
    "    \"proteins_100g\",\n",
    "    'sugars_100g',\n",
    "    'salt_100g',\n",
    "    'nutriscore_score',\n",
    "    'nutriscore_grade',\n",
    "    \"food_groups_en\",\n",
    "    \"sodium_100g\",\n",
    "    \"fiber_100g\"\n",
    "]\n",
    "\n",
    "df_transformed = df_parquet.select(selected_column)\n",
    "df_transformed.show(5, truncate=False)"
   ],
   "outputs": [
    {
     "name": "stderr",
     "output_type": "stream",
     "text": [
      "[Stage 1417:========================>                              (7 + 9) / 16]\r"
     ]
    },
    {
     "name": "stdout",
     "output_type": "stream",
     "text": [
      "+--------+-------------------------------+---------------+----------------------------------------------------------------------------------------------------------------------------------------------------------------------------------------------------------------------------+------------------------+--------+---------+--------------------------+-------------------------------------------------------------------------------------------------------------------------------------------------------------------------------------------------------------------------------------------------------------------------------------------------------------------------------------------------------------------------------------------------------------------------------------------------------------------------------------------------------------------------------------------------------------------------------------------------------------------+---------+-----------------+----------------+--------+------------------+-------------+-----------+---------+----------------+----------------+--------------------------------+-----------+----------+\n",
      "|code    |product_name                   |brands         |categories                                                                                                                                                                                                                  |main_category           |quantity|packaging|countries                 |ingredients_text                                                                                                                                                                                                                                                                                                                                                                                                                                                                                                                                                                                                   |allergens|serving_size     |energy-kcal_100g|fat_100g|saturated-fat_100g|proteins_100g|sugars_100g|salt_100g|nutriscore_score|nutriscore_grade|food_groups_en                  |sodium_100g|fiber_100g|\n",
      "+--------+-------------------------------+---------------+----------------------------------------------------------------------------------------------------------------------------------------------------------------------------------------------------------------------------+------------------------+--------+---------+--------------------------+-------------------------------------------------------------------------------------------------------------------------------------------------------------------------------------------------------------------------------------------------------------------------------------------------------------------------------------------------------------------------------------------------------------------------------------------------------------------------------------------------------------------------------------------------------------------------------------------------------------------+---------+-----------------+----------------+--------+------------------+-------------+-----------+---------+----------------+----------------+--------------------------------+-----------+----------+\n",
      "|4664.0  |Red Cluster Tomatos on the Vine|NULL           |Plant-based foods and beverages, Plant-based foods, Fruits and vegetables based foods, Vegetables based foods, Fresh foods, Fresh plant-based foods, Tomatoes and their products, Fresh vegetables, Tomatoes, Fresh tomatoes|en:fresh-tomatoes       |775 g   |fresh    |en:canada,en:United States|Red tomatoes                                                                                                                                                                                                                                                                                                                                                                                                                                                                                                                                                                                                       |NULL     |NULL             |NULL            |NULL    |NULL              |NULL         |NULL       |NULL     |NULL            |unknown         |Fruits and vegetables,Vegetables|NULL       |NULL      |\n",
      "|14925.0 |CFM Whey Isolat                |Powerstar Food |NULL                                                                                                                                                                                                                        |NULL                    |1000g   |NULL     |en:Germany                |NULL                                                                                                                                                                                                                                                                                                                                                                                                                                                                                                                                                                                                               |NULL     |NULL             |383.0           |1.0     |0.7               |92.5         |1.0        |1.24     |NULL            |unknown         |NULL                            |0.496      |NULL      |\n",
      "|62764.0 |medytu                         |mjaasq         |Beverages                                                                                                                                                                                                                   |en:beverages            |11566kg |NULL     |United States, Germany    |NULL                                                                                                                                                                                                                                                                                                                                                                                                                                                                                                                                                                                                               |NULL     |NULL             |NULL            |NULL    |NULL              |NULL         |NULL       |NULL     |NULL            |unknown         |NULL                            |NULL       |NULL      |\n",
      "|94022.0 |Organic Seedless Green Grapes  |NULL           |Plant-based foods and beverages, Plant-based foods, Fruits and vegetables based foods, Fruits based foods, Fruits, Grapes, Seedless grapes, Fresh grapes, Green grapes, Green seedless grapes                               |en:green-seedless-grapes|1000 g  |plastic  |en:canada,en:United States|organic seedless green grapes                                                                                                                                                                                                                                                                                                                                                                                                                                                                                                                                                                                      |NULL     |NULL             |NULL            |NULL    |NULL              |NULL         |NULL       |NULL     |NULL            |unknown         |Fruits and vegetables,Fruits    |NULL       |NULL      |\n",
      "|383004.0|King edward potato croquettes  |Marks & spencer|Frozen potato rostis                                                                                                                                                                                                        |en:frozen-potato-rostis |750 g   |NULL     |United Kingdom            |potatoes (70%) water vegetable oil (sunflower/rapeseed) cornflour. . potatoes rice flour chickpea flour maize flour potato starch . suitable for vegans made in the uk. sc3051 marks and spencer plc box 3339 9qs united kingdom * land) ltd 19 marks 13022 dublin 2 ireland pencer.com film don't recycle at home recycle with bags at large supermarket # @ # raising agent: e450, e500 ground white pepper dextrose. prepared to a vegan recipe. not suitable for those with a milk or egg allergy because these allergens are present in the environment. 750ge 21.6g &lt;0.1g 2.8c 2.1c 0.45 m&quot;0383 004 s|NULL     |100.0 g (100.0 g)|163.0           |7.0     |0.6               |2.1          |0.1        |0.443    |0               |b               |Cereals and potatoes            |0.177      |2.8       |\n",
      "+--------+-------------------------------+---------------+----------------------------------------------------------------------------------------------------------------------------------------------------------------------------------------------------------------------------+------------------------+--------+---------+--------------------------+-------------------------------------------------------------------------------------------------------------------------------------------------------------------------------------------------------------------------------------------------------------------------------------------------------------------------------------------------------------------------------------------------------------------------------------------------------------------------------------------------------------------------------------------------------------------------------------------------------------------+---------+-----------------+----------------+--------+------------------+-------------+-----------+---------+----------------+----------------+--------------------------------+-----------+----------+\n",
      "only showing top 5 rows\n",
      "\n"
     ]
    },
    {
     "name": "stderr",
     "output_type": "stream",
     "text": [
      "                                                                                \r"
     ]
    }
   ],
   "execution_count": 21
  },
  {
   "metadata": {
    "ExecuteTime": {
     "end_time": "2024-12-03T12:30:13.820696Z",
     "start_time": "2024-12-03T12:30:13.382132Z"
    }
   },
   "cell_type": "code",
   "source": [
    "# convert the columns to the appropriate format\n",
    "column_to_convert = [\"quantity\", \"nutriscore_score\", \"energy-kcal_100g\",\n",
    "                     \"fat_100g\", \"saturated-fat_100g\", \"proteins_100g\", \"sugars_100g\", \"salt_100g\"]\n",
    "# apply the conversion\n",
    "for column in column_to_convert:\n",
    "    df_transformed = df_transformed.withColumn(column, col(column).cast(\"double\"))\n",
    "print(f\"Conversion terminée: {df_transformed.count()}\")\n"
   ],
   "outputs": [
    {
     "name": "stdout",
     "output_type": "stream",
     "text": [
      "Conversion terminée: 9919\n"
     ]
    }
   ],
   "execution_count": 24
  },
  {
   "metadata": {},
   "cell_type": "code",
   "outputs": [],
   "execution_count": null,
   "source": [
    "# display the schema of the transformed DataFrame\n",
    "df_transformed.printSchema()"
   ]
  },
  {
   "metadata": {},
   "cell_type": "code",
   "outputs": [],
   "execution_count": null,
   "source": [
    "# convert code in string\n",
    "df_transformed = df_transformed.withColumn(\"code\", col(\"code\").cast(\"string\"))"
   ]
  },
  {
   "metadata": {},
   "cell_type": "code",
   "outputs": [],
   "execution_count": null,
   "source": [
    "# display the schema of the transformed DataFrame\n",
    "df_transformed.printSchema()"
   ]
  },
  {
   "metadata": {},
   "cell_type": "markdown",
   "source": [
    "# Transformation des données Transform :\n",
    "Ajouter des colonnes calculées, par exemple : Indice de qualité nutritionnelle \n",
    "Calculer un score basé sur les nutriments (e.g., sodium, sugar, fiber). \n",
    "Extraire la catégorie principale d'un produit (e.g., \"boissons\", \"snacks\"). \n",
    "Regrouper les données par catégories (categories) pour analyser les tendances (e.g., moyenne des calories par catégorie).\n",
    "\n",
    "--> Quel calcules effectuer ?  \n",
    "--> Quel catégories créer ?\n"
   ]
  },
  {
   "metadata": {},
   "cell_type": "code",
   "outputs": [],
   "execution_count": null,
   "source": "print(\"Transformation\")"
  },
  {
   "metadata": {},
   "cell_type": "markdown",
   "source": [
    "# Analyse exploratoire :\n",
    "Utiliser des fonctions de calcul sur fenêtre pour : \n",
    "Trouver les produits les plus caloriques par catégorie. \n",
    "Identifier les tendances de production par brands (marques). \n",
    "Générer des statistiques descriptives (e.g., médiane, moyenne des nutriments par catégorie"
   ]
  },
  {
   "metadata": {},
   "cell_type": "code",
   "outputs": [],
   "execution_count": null,
   "source": "print(\"Exploration\")"
  },
  {
   "metadata": {},
   "cell_type": "markdown",
   "source": [
    "# Sauvegarde des données Save :\n",
    "Partitionner les données par catégories (categories) et années (year). \n",
    "Sauvegarder les résultats transformés en format Parquet avec compression Snappy. \n",
    "Sauvegarder les résultats transformés dans les bases de données: postgresql/sqlserver/mysql/Snowflake/BigQuery"
   ]
  },
  {
   "metadata": {},
   "cell_type": "code",
   "outputs": [],
   "execution_count": null,
   "source": "print(\"Sauvegarde des données (load)\")"
  },
  {
   "metadata": {},
   "cell_type": "markdown",
   "source": [
    "\n",
    "\n",
    "# Présentation des résultats :\n",
    "Visualiser les résultats sous forme de graphiques ou tableaux \n",
    "(les étudiants peuvent utiliser un outil comme Jupyter Notebook en local ou Google Colab "
   ]
  },
  {
   "metadata": {},
   "cell_type": "code",
   "outputs": [],
   "execution_count": null,
   "source": "print(\"Présentation des données\")"
  }
 ],
 "metadata": {
  "kaggle": {
   "accelerator": "none",
   "dataSources": [
    {
     "datasetId": 6107906,
     "sourceId": 9935398,
     "sourceType": "datasetVersion"
    }
   ],
   "dockerImageVersionId": 30786,
   "isGpuEnabled": false,
   "isInternetEnabled": true,
   "language": "python",
   "sourceType": "notebook"
  },
  "kernelspec": {
   "display_name": "Python 3 (ipykernel)",
   "language": "python",
   "name": "python3"
  },
  "language_info": {
   "codemirror_mode": {
    "name": "ipython",
    "version": 3
   },
   "file_extension": ".py",
   "mimetype": "text/x-python",
   "name": "python",
   "nbconvert_exporter": "python",
   "pygments_lexer": "ipython3",
   "version": "3.10.15"
  }
 },
 "nbformat": 4,
 "nbformat_minor": 4
}
